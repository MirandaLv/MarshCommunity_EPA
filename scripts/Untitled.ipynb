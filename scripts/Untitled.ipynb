{
 "cells": [
  {
   "cell_type": "code",
   "execution_count": 2,
   "id": "79b7ba93",
   "metadata": {},
   "outputs": [],
   "source": [
    "\"\"\"\n",
    "author: Miranda Lv\n",
    "Date: Aug, 2023\n",
    "\"\"\""
   ]
  },
  {
   "cell_type": "code",
   "execution_count": 25,
   "id": "ef8535e1",
   "metadata": {},
   "outputs": [],
   "source": [
    "import rasterio\n",
    "import os\n",
    "from os.path import dirname as up\n",
    "import glob\n",
    "from pathlib import Path\n",
    "from rasterio.plot import show\n",
    "import geopandas as gpd"
   ]
  },
  {
   "cell_type": "code",
   "execution_count": 26,
   "id": "09701ed1",
   "metadata": {},
   "outputs": [],
   "source": [
    "root_path = up(os.path.abspath('.'))\n",
    "tiffDir = os.path.join(root_path, 'data/output')\n",
    "aoi = os.path.join(root_path, 'data/processing_data/vectors/subregion_aoi_wgs84.geojson')"
   ]
  },
  {
   "cell_type": "code",
   "execution_count": 27,
   "id": "d9fbbe5d",
   "metadata": {},
   "outputs": [],
   "source": [
    "aio_gdf = gpd.read_file(aoi)\n",
    "aio_gdf = aio_gdf.to_crs({'proj':'longlat', 'ellps':'WGS84', 'datum':'WGS84'})"
   ]
  },
  {
   "cell_type": "code",
   "execution_count": null,
   "id": "94ce1076",
   "metadata": {},
   "outputs": [],
   "source": []
  },
  {
   "cell_type": "code",
   "execution_count": null,
   "id": "d8ff8c13",
   "metadata": {},
   "outputs": [],
   "source": []
  },
  {
   "cell_type": "code",
   "execution_count": 18,
   "id": "433a5025",
   "metadata": {},
   "outputs": [],
   "source": [
    "alltif = list(Path(dataDir).glob(\"*.tif\"))"
   ]
  },
  {
   "cell_type": "code",
   "execution_count": 19,
   "id": "9d301548",
   "metadata": {},
   "outputs": [],
   "source": [
    "test = alltif[0]"
   ]
  },
  {
   "cell_type": "code",
   "execution_count": 22,
   "id": "5e99f8ec",
   "metadata": {},
   "outputs": [],
   "source": [
    "src = rasterio.open(test)"
   ]
  },
  {
   "cell_type": "code",
   "execution_count": null,
   "id": "653ff5eb",
   "metadata": {},
   "outputs": [],
   "source": []
  },
  {
   "cell_type": "code",
   "execution_count": null,
   "id": "d2b5d699",
   "metadata": {},
   "outputs": [],
   "source": [
    "def Clipper(raster, vector):\n",
    "\n",
    "\n",
    "    # Read Shapefile\n",
    "    with fiona.open(vector, \"r\") as shapefile:\n",
    "        shapes = [feature[\"geometry\"] for feature in shapefile]\n",
    "\n",
    "    with rio.open(raster) as src:\n",
    "        # read imagery file\n",
    "        out_image, out_transform = mask.mask(src, shapes, crop=True, nodata=np.nan)\n",
    "\n",
    "        # Check that after the clip, the image is not empty\n",
    "        test = out_image[~np.isnan(out_image)]\n",
    "\n",
    "        if test[test > 0].shape[0] == 0:\n",
    "            raise RuntimeError(\"Empty output\")\n",
    "\n",
    "        out_meta = src.profile\n",
    "        out_meta.update({\"height\": out_image.shape[1],\n",
    "                         \"width\": out_image.shape[2],\n",
    "                         \"transform\": out_transform})\n",
    "\n",
    "    return (out_image, out_meta)\n",
    "\n",
    "\n",
    "# Clip the raster\n",
    "array_out, out_meta = Clipper(raster, path)\n",
    "\n",
    "# Save the clip as a tif\n",
    "with rio.open(clipped, \"w\", **out_meta) as dest:\n",
    "    dest.write(array_out)"
   ]
  },
  {
   "cell_type": "code",
   "execution_count": null,
   "id": "d1419cc8",
   "metadata": {},
   "outputs": [],
   "source": []
  },
  {
   "cell_type": "code",
   "execution_count": null,
   "id": "e2526cd2",
   "metadata": {},
   "outputs": [],
   "source": []
  },
  {
   "cell_type": "code",
   "execution_count": null,
   "id": "1f356a6c",
   "metadata": {},
   "outputs": [],
   "source": []
  },
  {
   "cell_type": "code",
   "execution_count": null,
   "id": "5a72cf0f",
   "metadata": {},
   "outputs": [],
   "source": []
  },
  {
   "cell_type": "code",
   "execution_count": null,
   "id": "c4110b4c",
   "metadata": {},
   "outputs": [],
   "source": []
  },
  {
   "cell_type": "code",
   "execution_count": null,
   "id": "26849172",
   "metadata": {},
   "outputs": [],
   "source": []
  },
  {
   "cell_type": "code",
   "execution_count": null,
   "id": "d0350dda",
   "metadata": {},
   "outputs": [],
   "source": []
  },
  {
   "cell_type": "code",
   "execution_count": null,
   "id": "795caa8c",
   "metadata": {},
   "outputs": [],
   "source": []
  },
  {
   "cell_type": "code",
   "execution_count": null,
   "id": "384f42be",
   "metadata": {},
   "outputs": [],
   "source": []
  }
 ],
 "metadata": {
  "kernelspec": {
   "display_name": "vims",
   "language": "python",
   "name": "vims"
  },
  "language_info": {
   "codemirror_mode": {
    "name": "ipython",
    "version": 3
   },
   "file_extension": ".py",
   "mimetype": "text/x-python",
   "name": "python",
   "nbconvert_exporter": "python",
   "pygments_lexer": "ipython3",
   "version": "3.7.10"
  }
 },
 "nbformat": 4,
 "nbformat_minor": 5
}

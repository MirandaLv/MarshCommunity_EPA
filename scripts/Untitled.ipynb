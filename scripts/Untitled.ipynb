{
 "cells": [
  {
   "cell_type": "code",
   "execution_count": null,
   "id": "aa9fed7f",
   "metadata": {},
   "outputs": [],
   "source": [
    "\"\"\"\n",
    "author: Miranda Lv\n",
    "Date: Aug, 2023\n",
    "\"\"\""
   ]
  },
  {
   "cell_type": "code",
   "execution_count": 4,
   "id": "62145160",
   "metadata": {},
   "outputs": [],
   "source": [
    "import rasterio\n",
    "import os\n",
    "from os.path import dirname as up\n",
    "import glob\n",
    "from pathlib import Path\n",
    "\n",
    "import geopandas as gpd\n",
    "import fiona\n",
    "from shapely.geometry import box, Polygon\n",
    "import numpy as np\n",
    "\n",
    "import matplotlib.pyplot as plt\n",
    "from rasterio.plot import show"
   ]
  },
  {
   "cell_type": "code",
   "execution_count": 2,
   "id": "45c94c79",
   "metadata": {},
   "outputs": [],
   "source": [
    "root_path = up(os.path.abspath('.'))\n",
    "tiffDir = os.path.join(root_path, 'data/output')\n",
    "aoi = os.path.join(root_path, 'data/processing_data/vectors/subregion_aoi_wgs84.geojson')"
   ]
  },
  {
   "cell_type": "code",
   "execution_count": 5,
   "id": "520a3579",
   "metadata": {},
   "outputs": [],
   "source": [
    "alltif = list(Path(tiffDir).glob(\"*.tif\"))"
   ]
  },
  {
   "cell_type": "code",
   "execution_count": 6,
   "id": "006d809f",
   "metadata": {},
   "outputs": [],
   "source": [
    "def get_poly_bound(gdf):\n",
    "    \n",
    "    bounds = gdf['geometry'].bounds\n",
    "    minx = np.min(bounds.minx)\n",
    "    miny = np.min(bounds.miny)\n",
    "    maxx = np.max(bounds.maxx)\n",
    "    maxy = np.max(bounds.maxy)\n",
    "    \n",
    "    return minx, miny, maxx, maxy\n"
   ]
  },
  {
   "cell_type": "code",
   "execution_count": 15,
   "id": "104c1a8a",
   "metadata": {},
   "outputs": [],
   "source": [
    "aio_gdf = gpd.read_file(aoi)\n",
    "aio_gdf = aio_gdf.to_crs(32618)\n",
    "bounds = aio_gdf['geometry'].bounds\n",
    "\n",
    "minx, miny, maxx, maxy = get_poly_bound(aio_gdf)\n",
    "new_poly = box(minx, miny, maxx, maxy)\n"
   ]
  },
  {
   "cell_type": "code",
   "execution_count": 19,
   "id": "d608a6e3",
   "metadata": {},
   "outputs": [],
   "source": [
    "poly = [{'type': 'Polygon',\n",
    "  'coordinates': [[new_poly]]}]"
   ]
  },
  {
   "cell_type": "code",
   "execution_count": 20,
   "id": "5e2829bd",
   "metadata": {},
   "outputs": [
    {
     "data": {
      "text/plain": [
       "[{'type': 'Polygon',\n",
       "  'coordinates': [[<shapely.geometry.polygon.Polygon at 0x7f91c3a47c50>]]}]"
      ]
     },
     "execution_count": 20,
     "metadata": {},
     "output_type": "execute_result"
    }
   ],
   "source": [
    "poly"
   ]
  },
  {
   "cell_type": "code",
   "execution_count": 13,
   "id": "33892741",
   "metadata": {},
   "outputs": [],
   "source": [
    "with fiona.open(aoi, \"r\") as shapefile:\n",
    "    shapes = [feature[\"geometry\"] for feature in shapefile]"
   ]
  },
  {
   "cell_type": "code",
   "execution_count": 14,
   "id": "439cc99e",
   "metadata": {},
   "outputs": [
    {
     "data": {
      "text/plain": [
       "[{'type': 'Polygon',\n",
       "  'coordinates': [[(-76.46989556858375, 37.25809799243308),\n",
       "    (-76.35229769099021, 37.25949980504049),\n",
       "    (-76.35422963761951, 37.36725849755483),\n",
       "    (-76.4719953783964, 37.365851240046055),\n",
       "    (-76.46989556858375, 37.25809799243308)]]}]"
      ]
     },
     "execution_count": 14,
     "metadata": {},
     "output_type": "execute_result"
    }
   ],
   "source": [
    "shapes"
   ]
  },
  {
   "cell_type": "code",
   "execution_count": null,
   "id": "7d634705",
   "metadata": {},
   "outputs": [],
   "source": [
    "test = alltif[0]"
   ]
  },
  {
   "cell_type": "code",
   "execution_count": null,
   "id": "7216729f",
   "metadata": {},
   "outputs": [],
   "source": [
    "src = rasterio.open(test)"
   ]
  },
  {
   "cell_type": "code",
   "execution_count": null,
   "id": "d265fb2e",
   "metadata": {},
   "outputs": [],
   "source": [
    "\n",
    "extent = [src.bounds]\n",
    "fig = plt.figure(figsize=(20, 10))\n",
    "ax = fig.add_subplot(111)\n",
    "print(extent)\n",
    "ax = rasterio.plot.show(src, extent=extent, ax=ax, cmap='pink', title='My plot')\n",
    "\n",
    "aio_gdf.plot(ax=ax)\n",
    "plt.show()"
   ]
  },
  {
   "cell_type": "code",
   "execution_count": null,
   "id": "12fe8c17",
   "metadata": {},
   "outputs": [],
   "source": [
    "def Clipper(raster, vector):\n",
    "\n",
    "    # Read Shapefile\n",
    "    with fiona.open(vector, \"r\") as shapefile:\n",
    "        shapes = [feature[\"geometry\"] for feature in shapefile]\n",
    "\n",
    "    with rio.open(raster) as src:\n",
    "        # read imagery file\n",
    "        out_image, out_transform = mask.mask(src, shapes, crop=True, nodata=np.nan)\n",
    "\n",
    "        # Check that after the clip, the image is not empty\n",
    "        test = out_image[~np.isnan(out_image)]\n",
    "\n",
    "        if test[test > 0].shape[0] == 0:\n",
    "            raise RuntimeError(\"Empty output\")\n",
    "\n",
    "        out_meta = src.profile\n",
    "        out_meta.update({\"height\": out_image.shape[1],\n",
    "                         \"width\": out_image.shape[2],\n",
    "                         \"transform\": out_transform})\n",
    "\n",
    "    return (out_image, out_meta)\n",
    "\n",
    "\n",
    "# Clip the raster\n",
    "array_out, out_meta = Clipper(raster, path)\n",
    "\n",
    "# Save the clip as a tif\n",
    "with rio.open(clipped, \"w\", **out_meta) as dest:\n",
    "    dest.write(array_out)"
   ]
  },
  {
   "cell_type": "code",
   "execution_count": null,
   "id": "31388b91",
   "metadata": {},
   "outputs": [],
   "source": []
  },
  {
   "cell_type": "code",
   "execution_count": null,
   "id": "59e79029",
   "metadata": {},
   "outputs": [],
   "source": []
  },
  {
   "cell_type": "code",
   "execution_count": null,
   "id": "3bfaf61d",
   "metadata": {},
   "outputs": [],
   "source": []
  },
  {
   "cell_type": "code",
   "execution_count": null,
   "id": "5f0d88cb",
   "metadata": {},
   "outputs": [],
   "source": []
  },
  {
   "cell_type": "code",
   "execution_count": null,
   "id": "f0e95cde",
   "metadata": {},
   "outputs": [],
   "source": []
  },
  {
   "cell_type": "code",
   "execution_count": null,
   "id": "1fdaf3ad",
   "metadata": {},
   "outputs": [],
   "source": []
  },
  {
   "cell_type": "code",
   "execution_count": null,
   "id": "7476924d",
   "metadata": {},
   "outputs": [],
   "source": []
  },
  {
   "cell_type": "code",
   "execution_count": null,
   "id": "568ab6a7",
   "metadata": {},
   "outputs": [],
   "source": []
  },
  {
   "cell_type": "code",
   "execution_count": null,
   "id": "2910159c",
   "metadata": {},
   "outputs": [],
   "source": []
  }
 ],
 "metadata": {
  "kernelspec": {
   "display_name": "vims",
   "language": "python",
   "name": "vims"
  },
  "language_info": {
   "codemirror_mode": {
    "name": "ipython",
    "version": 3
   },
   "file_extension": ".py",
   "mimetype": "text/x-python",
   "name": "python",
   "nbconvert_exporter": "python",
   "pygments_lexer": "ipython3",
   "version": "3.7.10"
  }
 },
 "nbformat": 4,
 "nbformat_minor": 5
}

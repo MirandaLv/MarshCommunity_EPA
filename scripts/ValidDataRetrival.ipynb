{
 "cells": [
  {
   "cell_type": "code",
   "execution_count": 21,
   "id": "484a2c31",
   "metadata": {},
   "outputs": [],
   "source": [
    "import os\n",
    "import json\n",
    "import requests\n",
    "import geojsonio\n",
    "import time\n",
    "import geopandas as gpd\n",
    "import geojson\n",
    "from os.path import dirname as up\n",
    "import pandas as pd\n",
    "\n",
    "import json\n",
    "import requests\n",
    "from requests.auth import HTTPBasicAuth\n",
    "\n",
    "# Helper function to printformatted JSON using the json module\n",
    "def p(data):\n",
    "    print(json.dumps(data, indent=2))\n",
    "\n"
   ]
  },
  {
   "cell_type": "code",
   "execution_count": 22,
   "id": "1abee023",
   "metadata": {},
   "outputs": [],
   "source": [
    "root_path = up(os.getcwd())\n",
    "meta_path = os.path.join(root_path, 'data/processing_data/planetMeta_2022JanToJun_Kory_edit.csv')\n",
    "df = pd.read_csv(meta_path)"
   ]
  },
  {
   "cell_type": "code",
   "execution_count": 23,
   "id": "3e98662f",
   "metadata": {},
   "outputs": [],
   "source": [
    "df = df[df.Useful_Scene=='Y']"
   ]
  },
  {
   "cell_type": "code",
   "execution_count": 24,
   "id": "2991764a",
   "metadata": {},
   "outputs": [
    {
     "data": {
      "text/plain": [
       "200"
      ]
     },
     "execution_count": 24,
     "metadata": {},
     "output_type": "execute_result"
    }
   ],
   "source": [
    "# if your Planet API Key is not set as an environment variable, you can paste it below\n",
    "if os.environ.get('PL_API_KEY', ''):\n",
    "    API_KEY = os.environ.get('PL_API_KEY', '')\n",
    "else:\n",
    "    API_KEY = ''\n",
    "\n",
    "# construct auth tuple for use in the requests library\n",
    "BASIC_AUTH = (API_KEY, '')\n",
    "\n",
    "# Setup Planet Data API base URL\n",
    "URL = \"https://api.planet.com/data/v1\"\n",
    "\n",
    "# Setup the session\n",
    "session = requests.Session()\n",
    "\n",
    "# Authenticate\n",
    "session.auth = (API_KEY, \"\")\n",
    "\n",
    "# Make a GET request to the Planet Data API\n",
    "res = session.get(URL)\n",
    "\n",
    "# Response status code\n",
    "res.status_code"
   ]
  },
  {
   "cell_type": "code",
   "execution_count": 25,
   "id": "ed4ff61d",
   "metadata": {},
   "outputs": [],
   "source": [
    "def activating_asset(sid, itemType, productKey):\n",
    "    \n",
    "    id_url = 'https://api.planet.com/data/v1/item-types/{}/items/{}/assets'.format(itemType, sid)\n",
    "    # Returns JSON metadata for assets in this ID. Learn more: planet.com/docs/reference/data-api/items-assets/#asset\n",
    "    result = \\\n",
    "      requests.get(\n",
    "        id_url,\n",
    "        auth=HTTPBasicAuth(API_KEY, '')\n",
    "      )\n",
    "\n",
    "    # Parse out useful links\n",
    "    links = result.json()[productKey][\"_links\"]\n",
    "    self_link = links[\"_self\"]\n",
    "    activation_link = links[\"activate\"]\n",
    "\n",
    "    # Request activation of the asset:\n",
    "    activate_result = \\\n",
    "      requests.get(\n",
    "        activation_link,\n",
    "        auth=HTTPBasicAuth(API_KEY, '')\n",
    "      )\n",
    "    \n",
    "    activation_status_result = \\\n",
    "      requests.get(\n",
    "        self_link,\n",
    "        auth=HTTPBasicAuth(API_KEY, '')\n",
    "      )\n",
    "\n",
    "    print(activation_status_result.json()[\"status\"])\n"
   ]
  },
  {
   "cell_type": "code",
   "execution_count": 30,
   "id": "bb567001",
   "metadata": {},
   "outputs": [],
   "source": [
    "item_type = \"PSScene\"\n",
    "instruKey = \"ortho_analytic_8b\""
   ]
  },
  {
   "cell_type": "code",
   "execution_count": 31,
   "id": "16612d5f",
   "metadata": {},
   "outputs": [
    {
     "name": "stdout",
     "output_type": "stream",
     "text": [
      "activating\n",
      "activating\n",
      "activating\n",
      "activating\n",
      "activating\n",
      "activating\n",
      "activating\n",
      "activating\n",
      "activating\n",
      "activating\n",
      "activating\n",
      "activating\n",
      "activating\n",
      "activating\n",
      "activating\n",
      "activating\n",
      "activating\n",
      "activating\n"
     ]
    }
   ],
   "source": [
    "allids = df.id.tolist()\n",
    "\n",
    "for sID in allids: \n",
    "    \n",
    "    activating_asset(sID, item_type, instruKey)"
   ]
  },
  {
   "cell_type": "code",
   "execution_count": null,
   "id": "67349271",
   "metadata": {},
   "outputs": [],
   "source": []
  },
  {
   "cell_type": "code",
   "execution_count": null,
   "id": "43c4de8b",
   "metadata": {},
   "outputs": [],
   "source": []
  },
  {
   "cell_type": "code",
   "execution_count": null,
   "id": "ae0bdf27",
   "metadata": {},
   "outputs": [],
   "source": []
  },
  {
   "cell_type": "code",
   "execution_count": null,
   "id": "5629c08c",
   "metadata": {},
   "outputs": [],
   "source": []
  },
  {
   "cell_type": "code",
   "execution_count": null,
   "id": "c4fd35dd",
   "metadata": {},
   "outputs": [],
   "source": []
  },
  {
   "cell_type": "code",
   "execution_count": null,
   "id": "13cdc67f",
   "metadata": {},
   "outputs": [],
   "source": []
  },
  {
   "cell_type": "code",
   "execution_count": null,
   "id": "bebd7402",
   "metadata": {},
   "outputs": [],
   "source": []
  },
  {
   "cell_type": "code",
   "execution_count": null,
   "id": "81d05a38",
   "metadata": {},
   "outputs": [],
   "source": []
  }
 ],
 "metadata": {
  "kernelspec": {
   "display_name": "tf",
   "language": "python",
   "name": "tf"
  },
  "language_info": {
   "codemirror_mode": {
    "name": "ipython",
    "version": 3
   },
   "file_extension": ".py",
   "mimetype": "text/x-python",
   "name": "python",
   "nbconvert_exporter": "python",
   "pygments_lexer": "ipython3",
   "version": "3.7.11"
  }
 },
 "nbformat": 4,
 "nbformat_minor": 5
}
